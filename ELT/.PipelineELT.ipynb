{
 "cells": [
  {
   "cell_type": "markdown",
   "metadata": {
    "id": "3uOpZ1sop4GX"
   },
   "source": [
    "# Pipeline ELT"
   ]
  },
  {
   "cell_type": "markdown",
   "metadata": {
    "id": "tHiYyb75sMLP"
   },
   "source": [
    "## Extração e Carregamento\n"
   ]
  },
  {
   "cell_type": "markdown",
   "metadata": {
    "id": "ryxXdj_uqGzX"
   },
   "source": [
    "Em ELT/cargaRaw.py, os dados são extraídos dos arquivos .CSV da prefeitura que estão na pasta data/\n",
    "\n",
    "Utilizando a bibilioteca Pandas, extraímos os dados de 2003 até 2005, e de 2018 até 2020. O dados são enviados para o banco de dados um por um. Os dados anteriores e posteriores a 2016 são segregados em duas tabelas diferentes pois valores monetários a partir de 2016 são formatados com vírgula como separador decimal, enquanto os anteriores são formatados com ponto. \n"
   ]
  },
  {
   "cell_type": "code",
   "execution_count": null,
   "metadata": {
    "id": "aDlkFrGPnmLA"
   },
   "outputs": [],
   "source": [
    "import os\n",
    "import sys\n",
    "import pandas as pd\n",
    "\n",
    "parent_folder = os.path.abspath(os.path.join(os.path.dirname(__file__), '..'))\n",
    "sys.path.append(parent_folder)\n",
    "from postgres.engine import engine\n",
    "\n",
    "# Lista dos anos que serão processados na abordagem ELT\n",
    "anos = (2003, 2004, 2005, 2018, 2019, 2020)\n",
    "\n",
    "print(\"=== INICIANDO CARGA ELT - DADOS BRUTOS ===\")\n",
    "print(\"Carregando dados sem transformação na tabela raw_despesas\")\n",
    "\n",
    "for ano in anos:\n",
    "    print(f\"Processando ano {ano}...\")\n",
    "    caminho = f\"data/recife-dados-despesas-{ano}.csv\"\n",
    "    \n",
    "    # Extração: lê os dados CSV sem nenhuma transformação\n",
    "    df = pd.read_csv(caminho, sep=';', encoding='utf-8')    \n",
    "    \n",
    "    # Load: insere dados brutos diretamente no banco para posterior transformação\n",
    "    # if_exists=\"append\" adiciona os dados sem sobrescrever registros existentes\n",
    "    if ano < 2016:\n",
    "        df.to_sql(\"raw_despesas_pre_2016\", con=engine, if_exists=\"append\", index=False)\n",
    "    else:\n",
    "        # Para anos >= 2016, cria uma tabela separada para evitar problemas com vírgula/ponto\n",
    "        df.to_sql(\"raw_despesas_pos_2016\", con=engine, if_exists=\"append\", index=False)\n",
    "    \n",
    "    print(f\"  ✓ {len(df)} registros carregados para {ano}\")\n",
    "\n",
    "print(\"\\n=== CARGA ELT CONCLUÍDA ===\")\n",
    "print(\"Dados brutos disponíveis nas tabelas 'raw_despesas_pre_2016' e 'raw_despesas_pos_2016' para transformação\")\n"
   ]
  },
  {
   "cell_type": "markdown",
   "metadata": {
    "id": "cWXbD_A9s6jy"
   },
   "source": [
    "## Transformação\n"
   ]
  },
  {
   "cell_type": "markdown",
   "metadata": {
    "id": "s6y22qSCtEp0"
   },
   "source": [
    "Em ELT/transformacaoDados.py os dados são transformados já no banco de dados postgres, utilizando a biblioteca SQLAlchemy para executar comandos SQL diretamente no banco. Os dados passam por 4 etapas principais:\n",
    "\n",
    "Primeiro, em cada uma das tabelas de dados `raw_despesas_pre_2016` e `raw_despesas_pos_2016`, encontramos todas colunas que são texto e removemos os espaços em branco no início e no fim de cada valor, tornamos todos os caracteres minúsculos e substituímos espaços em branco por underline."
   ]
  },
  {
   "cell_type": "code",
   "execution_count": null,
   "metadata": {
    "id": "Dmm2mk3zuaxd"
   },
   "outputs": [],
   "source": [
    "def clean_text(conn, table):\n",
    "    # Encontra todas as colunas que são texto\n",
    "        result = conn.execute(text(f\"\"\"\n",
    "        SELECT column_name \n",
    "        FROM information_schema.columns\n",
    "        WHERE table_name = '{table}'\n",
    "        AND data_type = 'text';\n",
    "        \"\"\"))\n",
    "        \n",
    "        columns = [row.column_name for row in result]\n",
    "        \n",
    "        # Trim espaços brancos, deixa tudo minúsculo, substitui ' ' por '_'\n",
    "        for column in columns:\n",
    "            print(f\"Transformação iniciada para {table}.{column}\")\n",
    "            conn.execute(text(f\"\"\"\n",
    "                UPDATE {table}\n",
    "                SET {column} = REPLACE(LOWER(TRIM({column})), ' ', '_')\n",
    "                WHERE {column} IS NOT NULL;\n",
    "            \"\"\"))\n",
    "            print(f\"Transformação de {table}.{column} finalizada\")"
   ]
  },
  {
   "cell_type": "markdown",
   "metadata": {
    "id": "9xy-8UsZwCrF"
   },
   "source": [
    "Após isso, procuramos por todas as colunas que representam valores monetários em ambas tabelas. Em `raw_despesas_pos_2016`, estas colunas são text, então trocamos ',' por '.', garantimos que não há caracteres não númericos e então convertemos para numeric. Em `raw_despesas_pre_2016`, estas colunas são double precision, então também as convertemos para numeric."
   ]
  },
  {
   "cell_type": "code",
   "execution_count": null,
   "metadata": {
    "id": "O2E-js66wEEt"
   },
   "outputs": [],
   "source": [
    "def valores_monetarios_para_numeric(conn):\n",
    "    COL_NUMERIC = ('valor_empenhado', 'valor_liquidado', 'valor_pago')\n",
    "    \n",
    "    for column in COL_NUMERIC:\n",
    "        print(f\"Transformação iniciada para 'raw_despesas_pos_2016'.{column}\")\n",
    "        \n",
    "        # Primeiro, limpa os dados removendo caracteres não numéricos (exceto ponto e vírgula)\n",
    "        # e padroniza o separador decimal para ponto\n",
    "        conn.execute(text(f\"\"\"\n",
    "            UPDATE raw_despesas_pos_2016\n",
    "            SET {column} = CASE\n",
    "                WHEN {column} IS NULL OR TRIM(CAST({column} AS TEXT)) = '' THEN NULL\n",
    "                ELSE CAST(\n",
    "                    REPLACE(\n",
    "                        REPLACE(\n",
    "                            REGEXP_REPLACE(CAST({column} AS TEXT), '[^0-9,.\\\\-]', '', 'g'),\n",
    "                            ',', '.'\n",
    "                        ),\n",
    "                        '..', '.'\n",
    "                    ) AS NUMERIC(18,2)\n",
    "                )\n",
    "            END;\n",
    "        \"\"\"))\n",
    "                    \n",
    "        # Depois altera o tipo da coluna para NUMERIC(18,2)\n",
    "        for table in ('raw_despesas_pre_2016', 'raw_despesas_pos_2016'):\n",
    "            conn.execute(text(f\"\"\"\n",
    "                ALTER TABLE {table}\n",
    "                ALTER COLUMN {column} TYPE NUMERIC(18,2)\n",
    "                USING {column}::NUMERIC(18,2);\n",
    "            \"\"\"))\n",
    "        \n",
    "            print(f\"Transformação de {table}.{column} finalizada\")"
   ]
  },
  {
   "cell_type": "markdown",
   "metadata": {},
   "source": [
    "Em seguida, convertemos a coluna unidade_codigo para string, pois ela foi inicialmente carregada como double precision por conter um ponto mas na verdade é um código de unidade que não deve ser tratado como número. "
   ]
  },
  {
   "cell_type": "code",
   "execution_count": null,
   "metadata": {},
   "outputs": [],
   "source": [
    "def tratar_unidade_codigo(conn, table):\n",
    "    conn.execute(text(f\"\"\"\n",
    "            ALTER TABLE {table}\n",
    "            ALTER COLUMN unidade_codigo TYPE text\n",
    "            USING unidade_codigo::text;\n",
    "    \"\"\"))"
   ]
  },
  {
   "cell_type": "markdown",
   "metadata": {},
   "source": [
    "Por fim, criamos a tabela `despesas_recife` caso ela já não tenha sido criado pelo processo de ETL, e inserimos os dados transformados de ambas as tabelas `raw_despesas_pre_2016` e `raw_despesas_pos_2016` nela."
   ]
  },
  {
   "cell_type": "code",
   "execution_count": null,
   "metadata": {},
   "outputs": [],
   "source": [
    "def unificar_tabelas_despesas(conn):\n",
    "    # Cria a tabela unificada com base na estrutura de uma das tabelas\n",
    "    print(\"Criando tabela unificada 'despesas_recife'...\")\n",
    "    conn.execute(text(\"\"\"\n",
    "        CREATE TABLE IF NOT EXISTS despesas_recife AS\n",
    "        SELECT * FROM raw_despesas_pre_2016 WHERE 1=0;\n",
    "    \"\"\"))\n",
    "    \n",
    "    # Insere dados da primeira tabela\n",
    "    print(\"Inserindo dados de 'raw_despesas_pre_2016'...\")\n",
    "    conn.execute(text(\"\"\"\n",
    "        INSERT INTO despesas_recife\n",
    "        SELECT * FROM raw_despesas_pre_2016;\n",
    "    \"\"\"))\n",
    "    \n",
    "    # Insere dados da segunda tabela\n",
    "    print(\"Inserindo dados de 'raw_despesas_pos_2016'...\")\n",
    "    conn.execute(text(\"\"\"\n",
    "        INSERT INTO despesas_recife\n",
    "        SELECT * FROM raw_despesas_pos_2016;\n",
    "    \"\"\"))\n"
   ]
  }
 ],
 "metadata": {
  "colab": {
   "provenance": [],
   "toc_visible": true
  },
  "kernelspec": {
   "display_name": "Python 3",
   "name": "python3"
  },
  "language_info": {
   "name": "python"
  }
 },
 "nbformat": 4,
 "nbformat_minor": 0
}
